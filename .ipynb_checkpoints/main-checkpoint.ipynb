{
 "cells": [
  {
   "cell_type": "markdown",
   "metadata": {},
   "source": [
    "Author: Trenton Bricken @trentbrick"
   ]
  },
  {
   "cell_type": "code",
   "execution_count": null,
   "metadata": {},
   "outputs": [],
   "source": [
    "import numpy as np \n",
    "from scipy.stats import norm, multivariate_normal\n",
    "import matplotlib.pyplot as plt\n",
    "import pandas as pd"
   ]
  },
  {
   "cell_type": "code",
   "execution_count": 99,
   "metadata": {},
   "outputs": [
    {
     "data": {
      "image/png": "[encoded data removed]",
      "text/plain": [
       "<Figure size 432x288 with 1 Axes>"
      ]
     },
     "metadata": {
      "needs_background": "light"
     },
     "output_type": "display_data"
    }
   ],
   "source": [
    "# mixture of gaussians to display probability distribution\n",
    "\n",
    "# parameters to change: \n",
    "# This fictional example is my current model for Moderna stock MRNA.\n",
    "curr_price =206\n",
    "max_price = 500\n",
    "# reminder to think about the time interval over which this will happen and relevant reference points. \n",
    "mus_stds = [ (420, 50), (100, 20), (200,40), (250, 50) ] # give mu and then std as a tuple\n",
    "weights = [0.3,0.2,0.7, 0.6] # don't have to sum to one, will be normalized to ensure they are\n",
    "net_worth = 100000 # total net worth, Kelly criterion will tell you what fraction to invest\n",
    "#####################\n",
    "\n",
    "# other parameters:\n",
    "verbose = False\n",
    "min_price = 0 # recommend this stays fixed. \n",
    "resolution = 10000 # number of points to generate the distribution plots\n",
    "bins = 100 # may want to change to chunk the plot's values so they are meaningful probabilities. \n",
    "###################\n",
    "\n",
    "x = np.linspace(min_price, max_price,resolution) #np.concatenate([np.linspace(80, 120, resolution), np.linspace(180, 220, resolution)])\n",
    "y = np.zeros(resolution)\n",
    "weights = np.asarray(weights)/sum(weights)\n",
    "assert len(weights) == len(mus_stds), \"Missing a distribution or weighting for it!\"\n",
    "for mu_std, weight in zip(mus_stds, weights):\n",
    "    mu, std = mu_std\n",
    "    temp=norm.pdf(x, mu, std)\n",
    "    y+= temp*weight\n",
    "    if verbose: \n",
    "        plt.scatter(x, temp)\n",
    "        plt.show()\n",
    "y=y/sum(y)\n",
    "\n",
    "bar_centers = np.linspace(min_price, max_price, bins)\n",
    "y_bars = np.asarray(np.split(y,bins)).sum(axis=1)\n",
    "\n",
    "if verbose: \n",
    "    plt.scatter(x, y)\n",
    "    plt.title(\"Raw Output for every discretized point\")\n",
    "    plt.show()\n",
    "plt.figure()    \n",
    "plt.bar(bar_centers, y_bars, width=7)\n",
    "plt.axvline(curr_price, color='red', linestyle='dashed', label=\"Curr. Price $\"+str(curr_price))\n",
    "plt.legend()\n",
    "plt.ylabel(\"Percentage, %\")\n",
    "plt.xlabel(\"Price, $\")\n",
    "plt.title(\"Probability Distribution over Stock Price\")\n",
    "plt.show()"
   ]
  },
  {
   "cell_type": "code",
   "execution_count": 100,
   "metadata": {},
   "outputs": [
    {
     "name": "stdout",
     "output_type": "stream",
     "text": [
      "expected price: $ 239.65 expected gain/loss: $ 33.65\n",
      "win prob: 0.605 win amount: $ 90.65\n",
      "loss prob: 0.395 loss amount: $ -53.48\n",
      "========================================\n",
      "fraction of net worth to invest: 1.43\n",
      "amount of money to invest $ 43000.76\n",
      "========================================\n"
     ]
    }
   ],
   "source": [
    "# Perform Kelly Betting Calculations, print some things along the way. \n",
    "expected_price = sum(x*y)\n",
    "print(\"expected price: $\", np.round(expected_price,2), 'expected gain/loss: $',  np.round(expected_price-curr_price,2))\n",
    "\n",
    "win_mask = x>curr_price\n",
    "win_prob = sum(y[win_mask])\n",
    "normalized_win_probabilities = y[win_mask]/sum(y[win_mask])\n",
    "expected_win = sum( (x[win_mask]-curr_price) * normalized_win_probabilities) # win amount weighted by the probability of winning this amount \n",
    "win_fraction = expected_win/curr_price\n",
    "print('win prob:',np.round(win_prob,3), 'win amount: $',np.round(expected_win,2))\n",
    "\n",
    "loss_mask = x<=curr_price\n",
    "loss_prob = sum(y[loss_mask])\n",
    "normalized_loss_probabilities = y[loss_mask]/sum(y[loss_mask])\n",
    "expected_loss = sum( (x[loss_mask]-curr_price) * normalized_loss_probabilities) # loss amount weighted by the probability of losing this amount \n",
    "loss_fraction = -(expected_loss/curr_price)\n",
    "print('loss prob:', np.round(loss_prob,3), 'loss amount: $',np.round(expected_loss,2))\n",
    "f_star = (win_prob/ loss_fraction) - (loss_prob/win_fraction)\n",
    "print(\"=\"*40)\n",
    "print(\"fraction of net worth to invest:\", np.round(f_star,3))\n",
    "print(\"amount of money to invest $\", np.round(net_worth*(f_star-1),2))\n",
    "print(\"=\"*40)"
   ]
  },
  {
   "cell_type": "code",
   "execution_count": null,
   "metadata": {},
   "outputs": [],
   "source": []
  }
 ],
 "metadata": {
  "kernelspec": {
   "display_name": "Python 3",
   "language": "python",
   "name": "python3"
  },
  "language_info": {
   "codemirror_mode": {
    "name": "ipython",
    "version": 3
   },
   "file_extension": ".py",
   "mimetype": "text/x-python",
   "name": "python",
   "nbconvert_exporter": "python",
   "pygments_lexer": "ipython3",
   "version": "3.7.5"
  }
 },
 "nbformat": 4,
 "nbformat_minor": 4
}
